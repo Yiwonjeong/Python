{
 "cells": [
  {
   "cell_type": "code",
   "execution_count": null,
   "metadata": {},
   "outputs": [],
   "source": [
    "\"\"\"\n",
    "날짜: 2023/01/03\n",
    "이름: 이원정\n",
    "내용: 파이썬 반복문 while 실습하기\n",
    "\"\"\""
   ]
  },
  {
   "cell_type": "code",
   "execution_count": 2,
   "metadata": {},
   "outputs": [
    {
     "name": "stdout",
     "output_type": "stream",
     "text": [
      "i:  1\n",
      "i:  2\n",
      "i:  3\n",
      "i:  4\n",
      "i:  5\n"
     ]
    }
   ],
   "source": [
    "# while\n",
    "i = 1\n",
    "\n",
    "while i <= 5:\n",
    "    print('i: ',i)\n",
    "    i += 1"
   ]
  },
  {
   "cell_type": "code",
   "execution_count": 4,
   "metadata": {},
   "outputs": [
    {
     "name": "stdout",
     "output_type": "stream",
     "text": [
      "1~10까지 합:  55\n"
     ]
    }
   ],
   "source": [
    "# 1~10까지 합 \n",
    "total, k = 0,1\n",
    "\n",
    "while k<=10:\n",
    "    total += k\n",
    "    k += 1\n",
    "print('1~10까지 합: ', total)"
   ]
  },
  {
   "cell_type": "code",
   "execution_count": 5,
   "metadata": {},
   "outputs": [
    {
     "name": "stdout",
     "output_type": "stream",
     "text": [
      "1~10까지 짝수합:  30\n"
     ]
    }
   ],
   "source": [
    "# 1~10까지 짝수합\n",
    "total, k = 0,1\n",
    "\n",
    "while k<=10:\n",
    "    if k%2 == 0:\n",
    "        total += k\n",
    "    k += 1\n",
    "print('1~10까지 짝수합: ', total)"
   ]
  },
  {
   "cell_type": "code",
   "execution_count": 6,
   "metadata": {},
   "outputs": [
    {
     "name": "stdout",
     "output_type": "stream",
     "text": [
      "5와 7의 최소공배수:  35\n"
     ]
    }
   ],
   "source": [
    "# break\n",
    "num = 1\n",
    "while True:\n",
    "    if num % 5 == 0 and num % 7 ==0:\n",
    "        break\n",
    "    num += 1\n",
    "\n",
    "print('5와 7의 최소공배수: ', num)"
   ]
  },
  {
   "cell_type": "code",
   "execution_count": 8,
   "metadata": {},
   "outputs": [
    {
     "name": "stdout",
     "output_type": "stream",
     "text": [
      "1 3 5 7 9 11 "
     ]
    }
   ],
   "source": [
    "# continue\n",
    "n = 0\n",
    "while n <= 10:\n",
    "    n+= 1\n",
    "    if n % 2 == 0:\n",
    "        continue\n",
    "    print(n, end=' ')"
   ]
  }
 ],
 "metadata": {
  "kernelspec": {
   "display_name": "Python 3.11.1 64-bit",
   "language": "python",
   "name": "python3"
  },
  "language_info": {
   "codemirror_mode": {
    "name": "ipython",
    "version": 3
   },
   "file_extension": ".py",
   "mimetype": "text/x-python",
   "name": "python",
   "nbconvert_exporter": "python",
   "pygments_lexer": "ipython3",
   "version": "3.11.1"
  },
  "orig_nbformat": 4,
  "vscode": {
   "interpreter": {
    "hash": "aee8b7b246df8f9039afb4144a1f6fd8d2ca17a180786b69acc140d282b71a49"
   }
  }
 },
 "nbformat": 4,
 "nbformat_minor": 2
}
