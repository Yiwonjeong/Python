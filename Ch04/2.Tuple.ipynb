{
 "cells": [
  {
   "cell_type": "code",
   "execution_count": null,
   "metadata": {},
   "outputs": [],
   "source": [
    "\"\"\"\n",
    "날짜: 2023/01/04\n",
    "이름: 이원정\n",
    "내용: 파이썬 자료구조 Tuple(고정 리스트) 실습하기\n",
    "\"\"\""
   ]
  },
  {
   "cell_type": "code",
   "execution_count": null,
   "metadata": {},
   "outputs": [],
   "source": [
    "# 튜플\n",
    "data = (1,2,3,4,5)\n",
    "print('data type: ', type(data))\n",
    "print('data[0]: ', data[0])\n",
    "print('data[2]: ', data[2])\n",
    "print('data[3]: ', data[3])\n",
    "\n",
    "cities = ('서울','대전','대구','부산','광주')\n",
    "for city in cities:\n",
    "    print('city: ', city) "
   ]
  },
  {
   "cell_type": "code",
   "execution_count": null,
   "metadata": {},
   "outputs": [],
   "source": [
    "# 튜플 수정, 추가, 삭제 (튜플은 안됨)\n",
    "data = 1,2,3,4,5\n",
    "print('data type: ', type(data))\n",
    "\n",
    "# TypeError: 'tuple' object does not support item assignment \n",
    "data[0]=7\n",
    "print('data: ',data)"
   ]
  }
 ],
 "metadata": {
  "kernelspec": {
   "display_name": "Python 3.11.1 64-bit",
   "language": "python",
   "name": "python3"
  },
  "language_info": {
   "codemirror_mode": {
    "name": "ipython",
    "version": 3
   },
   "file_extension": ".py",
   "mimetype": "text/x-python",
   "name": "python",
   "nbconvert_exporter": "python",
   "pygments_lexer": "ipython3",
   "version": "3.11.1"
  },
  "orig_nbformat": 4,
  "vscode": {
   "interpreter": {
    "hash": "aee8b7b246df8f9039afb4144a1f6fd8d2ca17a180786b69acc140d282b71a49"
   }
  }
 },
 "nbformat": 4,
 "nbformat_minor": 2
}
