{
 "cells": [
  {
   "cell_type": "code",
   "execution_count": null,
   "metadata": {},
   "outputs": [],
   "source": [
    "\"\"\"\n",
    "날짜: 2023/01/04\n",
    "이름: 이원정\n",
    "내용: 파이썬 자료구조 List(동적 리스트) 실습하기\n",
    "\"\"\""
   ]
  },
  {
   "cell_type": "code",
   "execution_count": null,
   "metadata": {},
   "outputs": [],
   "source": [
    "# 리스트\n",
    "data = [1,2,3,4,5]\n",
    "print('data type:', type(data))\n",
    "print('data[0]: ', data[0])\n",
    "print('data[1]: ', data[1])\n",
    "print('data[2]: ', data[2])\n",
    "print('data[3]: ', data[3])"
   ]
  },
  {
   "cell_type": "code",
   "execution_count": null,
   "metadata": {},
   "outputs": [],
   "source": [
    "# 여러 종류의 데이터를 저장하는 리스트\n",
    "data = [5, 3.14, True, 'Apple']\n",
    "print('data type:', type(data))\n",
    "print('data[0]: ', data[0])\n",
    "print('data[1]: ', data[1])\n",
    "print('data[2]: ', data[2])\n",
    "print('data[3]: ', data[3])"
   ]
  },
  {
   "cell_type": "code",
   "execution_count": null,
   "metadata": {},
   "outputs": [],
   "source": [
    "# 다차원 리스트\n",
    "data = [[1,2,3],\n",
    "        [4,5,6],\n",
    "        [7,8,9]]\n",
    "print('data[0][0]: ', data[0][0])\n",
    "print('data[1][1]: ', data[1][1])\n",
    "print('data[2][1]: ', data[2][1])"
   ]
  },
  {
   "cell_type": "code",
   "execution_count": null,
   "metadata": {},
   "outputs": [],
   "source": [
    "# 리스트 수정, 추가, 삭제\n",
    "data = [1,2,3,4,5]\n",
    "\n",
    "data[1]=7\n",
    "print('data = ', data)\n",
    "\n",
    "data[2:4]=[7,8,9]\n",
    "print('data = ', data)\n",
    "\n",
    "data[3:5]=[]\n",
    "print('data = ', data)"
   ]
  },
  {
   "cell_type": "code",
   "execution_count": null,
   "metadata": {},
   "outputs": [],
   "source": [
    "# 리스트 반복문\n",
    "for n in [1,3,5,7,9]:\n",
    "    print('n: ',n)\n",
    "\n",
    "cities = ['서울','대전','대구','부산','광주']\n",
    "for city in cities:\n",
    "    print('city: ',city)\n",
    "\n",
    "for index, value in enumerate(cities):\n",
    "    print('cities[%d]: %s' % (index, value))"
   ]
  },
  {
   "cell_type": "code",
   "execution_count": null,
   "metadata": {},
   "outputs": [],
   "source": [
    "# 리스트 comprehension\n",
    "data = [1,2,3,4,5]\n",
    "\n",
    "rs1 = [num for num in data]\n",
    "print('rs1: ',rs1)\n",
    "\n",
    "rs2 = [num * 2 for num in data]\n",
    "print('rs2: ', rs2)\n",
    "\n",
    "rs3 = [num * 3 for num in data if num % 2 == 1]\n",
    "print('rs3: ', rs3)"
   ]
  }
 ],
 "metadata": {
  "kernelspec": {
   "display_name": "Python 3.11.1 64-bit",
   "language": "python",
   "name": "python3"
  },
  "language_info": {
   "codemirror_mode": {
    "name": "ipython",
    "version": 3
   },
   "file_extension": ".py",
   "mimetype": "text/x-python",
   "name": "python",
   "nbconvert_exporter": "python",
   "pygments_lexer": "ipython3",
   "version": "3.11.1"
  },
  "orig_nbformat": 4,
  "vscode": {
   "interpreter": {
    "hash": "aee8b7b246df8f9039afb4144a1f6fd8d2ca17a180786b69acc140d282b71a49"
   }
  }
 },
 "nbformat": 4,
 "nbformat_minor": 2
}
