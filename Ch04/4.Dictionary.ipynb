{
 "cells": [
  {
   "cell_type": "code",
   "execution_count": null,
   "metadata": {},
   "outputs": [],
   "source": [
    "\"\"\"\n",
    "날짜: 2023/01/04\n",
    "이름: 이원정\n",
    "내용: 파이썬 자료구조 Dictionary 실습하기\n",
    "\"\"\""
   ]
  },
  {
   "cell_type": "code",
   "execution_count": null,
   "metadata": {},
   "outputs": [],
   "source": [
    "# 딕셔너리\n",
    "data = {'A':'Apple', 'B':'Banana', 'C':'Cherry'}\n",
    "print('data type:', type(data))\n",
    "print('data: ', data)\n",
    "print(\"data[A]: \", data['A'])\n",
    "print(\"data[B]: \", data['B'])\n",
    "print(\"data[C]: \", data['C'])"
   ]
  },
  {
   "cell_type": "code",
   "execution_count": null,
   "metadata": {},
   "outputs": [],
   "source": [
    "# 딕셔너리 활용\n",
    "data = {\n",
    "    101: [1,2,3,4,5],\n",
    "    102: (6,7,8,9,10),\n",
    "    103: {'서울','대전','대구','부산','광주'},\n",
    "    104: {'p1': '김유신', 'p2': '김춘추', 'p3': '장보고'}\n",
    "}\n",
    "\n",
    "print('data[101][4]: ',data[101][4])\n",
    "print('data[102][1]: ',data[102][1])\n",
    "print('data[104][p2]: ',data[104]['p2'])"
   ]
  },
  {
   "cell_type": "code",
   "execution_count": 9,
   "metadata": {},
   "outputs": [
    {
     "name": "stdout",
     "output_type": "stream",
     "text": [
      "1 서울\n",
      "2 대전\n",
      "3 대구\n",
      "4 부산\n",
      "5 광주\n"
     ]
    }
   ],
   "source": [
    "# 딕셔너리 반복문\n",
    "data = {1: '서울', 2: '대전', 3: '대구', 4: '부산', 5: '광주'}\n",
    "for k, v in data.items():\n",
    "    print(k, v)"
   ]
  }
 ],
 "metadata": {
  "kernelspec": {
   "display_name": "Python 3.11.1 64-bit",
   "language": "python",
   "name": "python3"
  },
  "language_info": {
   "codemirror_mode": {
    "name": "ipython",
    "version": 3
   },
   "file_extension": ".py",
   "mimetype": "text/x-python",
   "name": "python",
   "nbconvert_exporter": "python",
   "pygments_lexer": "ipython3",
   "version": "3.11.1"
  },
  "orig_nbformat": 4,
  "vscode": {
   "interpreter": {
    "hash": "aee8b7b246df8f9039afb4144a1f6fd8d2ca17a180786b69acc140d282b71a49"
   }
  }
 },
 "nbformat": 4,
 "nbformat_minor": 2
}
