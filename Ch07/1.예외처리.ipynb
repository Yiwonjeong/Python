{
 "cells": [
  {
   "cell_type": "code",
   "execution_count": null,
   "metadata": {},
   "outputs": [],
   "source": [
    "\"\"\"\n",
    "날짜: 2023/01/12\n",
    "이름: 이원정\n",
    "내용: 파이썬 예외처리 실습하기\n",
    "\"\"\""
   ]
  },
  {
   "cell_type": "code",
   "execution_count": null,
   "metadata": {},
   "outputs": [],
   "source": [
    "# try ~ except\n",
    "\n",
    "num1, num2 = 1, 0\n",
    "#ZeroDivisionError: division by zero\n",
    "r1 = r2 = r3 = r4 = 0\n",
    "\n",
    "try:\n",
    "    r1 = num1 + num2\n",
    "    r2 = num1 - num2\n",
    "    r3 = num1 * num2\n",
    "    r4 = num1 / num2\n",
    "\n",
    "    \n",
    "except:\n",
    "    print('에러발생...')\n",
    "\n",
    "print('r1: ',r1)\n",
    "print('r2: ',r2)\n",
    "print('r3: ',r3)\n",
    "print('r4: ',r4)"
   ]
  },
  {
   "cell_type": "code",
   "execution_count": null,
   "metadata": {},
   "outputs": [],
   "source": [
    "# try ~ except ~ finally\n",
    "\n",
    "cities = ['서울','대전','대구','부산','광주']\n",
    "\n",
    "try:\n",
    "    for i in range(10):\n",
    "        print(cities[i])\n",
    "except Exception as e:\n",
    "    print('에러내용: ', e)\n",
    "finally:\n",
    "    print('예외처리 완료...')"
   ]
  },
  {
   "cell_type": "code",
   "execution_count": null,
   "metadata": {},
   "outputs": [],
   "source": [
    "# try ~ except ~ else\n",
    "\n",
    "cities = ['서울','대전','대구','부산','광주']\n",
    "result = None\n",
    "\n",
    "while True:\n",
    "    try:\n",
    "        print('1~5 선택하세요.(0: 종료)')\n",
    "        answer = int(input('선택: '))\n",
    "\n",
    "        if answer == 0:\n",
    "            break\n",
    "\n",
    "        result = cities[answer-1]\n",
    "\n",
    "    except Exception as e:\n",
    "        print('1~5만 선택하십시오: ', e)\n",
    "    else:\n",
    "        print('%s을(를) 선택하셨습니다.' % result)\n",
    "\n",
    "    print('프로그램 종료')"
   ]
  }
 ],
 "metadata": {
  "kernelspec": {
   "display_name": "Python 3.11.1 64-bit",
   "language": "python",
   "name": "python3"
  },
  "language_info": {
   "codemirror_mode": {
    "name": "ipython",
    "version": 3
   },
   "file_extension": ".py",
   "mimetype": "text/x-python",
   "name": "python",
   "nbconvert_exporter": "python",
   "pygments_lexer": "ipython3",
   "version": "3.11.1"
  },
  "orig_nbformat": 4,
  "vscode": {
   "interpreter": {
    "hash": "aee8b7b246df8f9039afb4144a1f6fd8d2ca17a180786b69acc140d282b71a49"
   }
  }
 },
 "nbformat": 4,
 "nbformat_minor": 2
}
