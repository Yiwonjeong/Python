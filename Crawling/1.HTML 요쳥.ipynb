{
 "cells": [
  {
   "cell_type": "code",
   "execution_count": 2,
   "metadata": {},
   "outputs": [],
   "source": [
    "\"\"\"\n",
    "날짜: 2023/01/16\n",
    "이름: 이원정\n",
    "내용: 파이썬 크롤링 실습하기\n",
    "\"\"\"\n",
    "# sudo python3 -m pip install requests\n",
    "# sudo python3 -m pip install bs4\n",
    "\n",
    "import requests as req\n",
    "from bs4 import BeautifulSoup as bs\n"
   ]
  },
  {
   "cell_type": "code",
   "execution_count": null,
   "metadata": {},
   "outputs": [],
   "source": [
    "# HTML 요청\n",
    "url = 'http://chhak.click/parsing/sample2.html'\n",
    "html = req.get(url).text\n",
    "print(html)"
   ]
  },
  {
   "cell_type": "code",
   "execution_count": null,
   "metadata": {},
   "outputs": [],
   "source": [
    "# 문서객체 생성 : HTML 파싱 (parsing) \n",
    "dom = bs(html, 'html.parser')\n",
    "print(dom)"
   ]
  },
  {
   "cell_type": "code",
   "execution_count": null,
   "metadata": {},
   "outputs": [],
   "source": [
    "# 데이터 파싱 \n",
    "tit = dom.html.body.h1.text\n",
    "txt = dom.select_one('#txt').text\n",
    "lis = dom.select('ul > li')\n",
    "\n",
    "print('tit: ', tit)\n",
    "print('txt: ', txt)\n",
    "\n",
    "for li in lis:\n",
    "    print('li: ', li.text)"
   ]
  }
 ],
 "metadata": {
  "kernelspec": {
   "display_name": "Python 3.8.2 64-bit",
   "language": "python",
   "name": "python3"
  },
  "language_info": {
   "codemirror_mode": {
    "name": "ipython",
    "version": 3
   },
   "file_extension": ".py",
   "mimetype": "text/x-python",
   "name": "python",
   "nbconvert_exporter": "python",
   "pygments_lexer": "ipython3",
   "version": "3.8.2"
  },
  "orig_nbformat": 4,
  "vscode": {
   "interpreter": {
    "hash": "31f2aee4e71d21fbe5cf8b01ff0e069b9275f58929596ceb00d14d90e3e16cd6"
   }
  }
 },
 "nbformat": 4,
 "nbformat_minor": 2
}
