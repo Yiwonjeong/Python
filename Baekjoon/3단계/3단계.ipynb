{
 "cells": [
  {
   "cell_type": "code",
   "execution_count": null,
   "metadata": {},
   "outputs": [],
   "source": [
    "\"\"\"\n",
    "날짜: 2023/01/03\n",
    "이름: 이원정\n",
    "내용: 백준 3-1: 2739\n",
    "\"\"\"\n",
    "dan = int(input())\n",
    "\n",
    "for i in range(1,10):\n",
    "    z=dan*i\n",
    "    print('{} * {} = {}'.format(dan,i,z))"
   ]
  },
  {
   "cell_type": "code",
   "execution_count": null,
   "metadata": {},
   "outputs": [],
   "source": [
    "\"\"\"\n",
    "날짜: 2023/01/03\n",
    "이름: 이원정\n",
    "내용: 백준 3-2: 10950\n",
    "\"\"\"\n",
    "t = int(input())\n",
    "\n",
    "for i in range(t):\n",
    "    a, b = map(int, input().split())\n",
    "    print(a+b)"
   ]
  },
  {
   "cell_type": "code",
   "execution_count": null,
   "metadata": {},
   "outputs": [],
   "source": [
    "\"\"\"\n",
    "날짜: 2023/01/03\n",
    "이름: 이원정\n",
    "내용: 백준 3-3: 8393\n",
    "\"\"\"\n",
    "n = int(input())\n",
    "sum = 0\n",
    "\n",
    "for i in range(n+1):\n",
    "    sum += i\n",
    "print(sum)\n"
   ]
  },
  {
   "cell_type": "code",
   "execution_count": null,
   "metadata": {},
   "outputs": [],
   "source": [
    "\"\"\"\n",
    "날짜: 2023/01/03\n",
    "이름: 이원정\n",
    "내용: 백준 3-4: 25304\n",
    "\"\"\"\n",
    "x = int(input())\n",
    "n = int(input())\n",
    "totalPrice = 0\n",
    "\n",
    "for i in range(1,n+1):\n",
    "    a, b = map(int, input().split())\n",
    "    price = a*b\n",
    "    totalPrice += price \n",
    "if x == totalPrice:\n",
    "    print('Yes')\n",
    "else:\n",
    "    print('No')\n"
   ]
  },
  {
   "cell_type": "code",
   "execution_count": null,
   "metadata": {},
   "outputs": [],
   "source": [
    "\"\"\"\n",
    "날짜: 2023/01/03\n",
    "이름: 이원정\n",
    "내용: 백준 3-5: 15552\n",
    "\"\"\"\n",
    "import sys\n",
    "\n",
    "t = int(input())\n",
    "for i in range(t):\n",
    "        a,b = map(int, sys.stdin.readline().split())\n",
    "        print(a+b)"
   ]
  },
  {
   "cell_type": "code",
   "execution_count": null,
   "metadata": {},
   "outputs": [],
   "source": [
    "\"\"\"\n",
    "날짜: 2023/01/03\n",
    "이름: 이원정\n",
    "내용: 백준 3-6: 11021\n",
    "\"\"\"\n",
    "t = int(input())\n",
    "for i in range(t):\n",
    "    a, b = map(int, input().split())\n",
    "    print('Case #%d: %d' % (i+1,a+b))"
   ]
  },
  {
   "cell_type": "code",
   "execution_count": null,
   "metadata": {},
   "outputs": [],
   "source": [
    "\"\"\"\n",
    "날짜: 2023/01/03\n",
    "이름: 이원정\n",
    "내용: 백준 3-7: 11022\n",
    "\"\"\"\n",
    "t = int(input())\n",
    "for i in range(t):\n",
    "    a, b = map(int, input().split())\n",
    "    print('Case #%d: %d + %d = %d' % (i+1,a,b,a+b))"
   ]
  },
  {
   "cell_type": "code",
   "execution_count": 2,
   "metadata": {},
   "outputs": [
    {
     "name": "stdout",
     "output_type": "stream",
     "text": [
      "*/\n",
      "*/*/\n",
      "*/*/*/\n",
      "*/*/*/*/\n",
      "*/*/*/*/*/\n"
     ]
    }
   ],
   "source": [
    "\"\"\"\n",
    "날짜: 2023/01/03\n",
    "이름: 이원정\n",
    "내용: 백준 3-8: 2438\n",
    "\"\"\"\n",
    "n = int(input())\n",
    "\n",
    "for start in range(1,n+1):\n",
    "    for end in range(start): \n",
    "        print('*', end='')\n",
    "    print()"
   ]
  },
  {
   "cell_type": "code",
   "execution_count": null,
   "metadata": {},
   "outputs": [],
   "source": [
    "\"\"\"\n",
    "날짜: 2023/01/04\n",
    "이름: 이원정\n",
    "내용: 백준 3-9: 2439\n",
    "\"\"\"\n",
    "n = int(input())\n",
    "for i in range(1,n+1):\n",
    "    print(\" \"*(n-i) + \"*\"*i)"
   ]
  },
  {
   "cell_type": "code",
   "execution_count": null,
   "metadata": {},
   "outputs": [],
   "source": [
    "\"\"\"\n",
    "날짜: 2023/01/04\n",
    "이름: 이원정\n",
    "내용: 백준 3-10: 10952\n",
    "\"\"\"\n",
    "while True:\n",
    "    a, b = map(int, input().split())\n",
    "    if a == 0 and b == 0:\n",
    "        break\n",
    "    print(a+b)\n"
   ]
  },
  {
   "cell_type": "code",
   "execution_count": null,
   "metadata": {},
   "outputs": [],
   "source": [
    "\"\"\"\n",
    "날짜: 2023/01/04\n",
    "이름: 이원정\n",
    "내용: 백준 3-10: 10951\n",
    "\"\"\"\n",
    "while True:\n",
    "    try:\n",
    "        a, b = map(int, input().split())\n",
    "        print(a+b)\n",
    "    except:\n",
    "        break"
   ]
  },
  {
   "cell_type": "code",
   "execution_count": null,
   "metadata": {},
   "outputs": [],
   "source": [
    "\"\"\"\n",
    "날짜: 2023/01/04\n",
    "이름: 이원정\n",
    "내용: 백준 3-12: 1110\n",
    "\"\"\"\n",
    "N = int(input())  \n",
    "num = N         \n",
    "count = 0       \n",
    "\n",
    "while True:\n",
    "    a = num//10\n",
    "    b = num %10\n",
    "    c = (a+b)%10\n",
    "    num = (b*10) + c\n",
    "    count += 1\n",
    "    if(num == N):\n",
    "        break\n",
    "\n",
    "print(count)"
   ]
  }
 ],
 "metadata": {
  "kernelspec": {
   "display_name": "Python 3.11.1 64-bit",
   "language": "python",
   "name": "python3"
  },
  "language_info": {
   "codemirror_mode": {
    "name": "ipython",
    "version": 3
   },
   "file_extension": ".py",
   "mimetype": "text/x-python",
   "name": "python",
   "nbconvert_exporter": "python",
   "pygments_lexer": "ipython3",
   "version": "3.11.1"
  },
  "orig_nbformat": 4,
  "vscode": {
   "interpreter": {
    "hash": "aee8b7b246df8f9039afb4144a1f6fd8d2ca17a180786b69acc140d282b71a49"
   }
  }
 },
 "nbformat": 4,
 "nbformat_minor": 2
}
