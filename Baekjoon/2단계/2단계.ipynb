{
 "cells": [
  {
   "cell_type": "code",
   "execution_count": null,
   "metadata": {},
   "outputs": [],
   "source": [
    "\"\"\"\n",
    "날짜: 2023/01/03\n",
    "이름: 이원정\n",
    "내용: 백준 2-1: 1330\n",
    "\"\"\"\n",
    "a, b = map(int, input().split())\n",
    "if a > b:\n",
    "    print('>')\n",
    "elif a < b:\n",
    "    print('<')\n",
    "else:\n",
    "    print('==')"
   ]
  },
  {
   "cell_type": "code",
   "execution_count": null,
   "metadata": {},
   "outputs": [],
   "source": [
    "\"\"\"\n",
    "날짜: 2023/01/03\n",
    "이름: 이원정\n",
    "내용: 백준 2-2: 9498\n",
    "\"\"\"\n",
    "score = int(input())\n",
    "\n",
    "if 90<= score <= 100:\n",
    "    print('A')\n",
    "elif 80<= score < 90:\n",
    "    print('B')\n",
    "elif 70<= score < 80:\n",
    "    print('C')\n",
    "elif 60<= score < 70:\n",
    "    print('D')\n",
    "else:\n",
    "    print('F')"
   ]
  },
  {
   "cell_type": "code",
   "execution_count": null,
   "metadata": {},
   "outputs": [],
   "source": [
    "\"\"\"\n",
    "날짜: 2023/01/03\n",
    "이름: 이원정\n",
    "내용: 백준 2-3: 2753\n",
    "\"\"\"\n",
    "year = int(input())\n",
    "\n",
    "if year%4==0 and year%100!=0 or year%400==0:\n",
    "    print('1')\n",
    "else:\n",
    "    print('0')"
   ]
  },
  {
   "cell_type": "code",
   "execution_count": null,
   "metadata": {},
   "outputs": [],
   "source": [
    "\"\"\"\n",
    "날짜: 2023/01/03\n",
    "이름: 이원정\n",
    "내용: 백준 2-4: 14681\n",
    "\"\"\"\n",
    "x = int(input())\n",
    "y = int(input())\n",
    "\n",
    "if (x>0 and y>0):\n",
    "    print('1')\n",
    "elif(x<0 and y>0):\n",
    "    print('2')\n",
    "elif(x<0 and y<0):\n",
    "    print('3')\n",
    "elif(x>0 and y<0):\n",
    "    print('4')\n",
    "    "
   ]
  },
  {
   "cell_type": "code",
   "execution_count": null,
   "metadata": {},
   "outputs": [],
   "source": [
    "\"\"\"\n",
    "날짜: 2023/01/03\n",
    "이름: 이원정\n",
    "내용: 백준 2-5: 2884\n",
    "\"\"\"\n",
    "h, m = map(int, input().split())\n",
    "\n",
    "if m>44:\n",
    "    print(h, m-45)\n",
    "elif m<45 and h>0:\n",
    "    print(h-1,m+15)\n",
    "else:\n",
    "    print(23,m+15)\n",
    "\n"
   ]
  },
  {
   "cell_type": "code",
   "execution_count": null,
   "metadata": {},
   "outputs": [],
   "source": [
    "\"\"\"\n",
    "날짜: 2023/01/03\n",
    "이름: 이원정\n",
    "내용: 백준 2-6: 2525\n",
    "\"\"\"\n",
    "h, m = map(int, input().split())\n",
    "time = int(input())\n",
    "\n",
    "m = (h*60)+m\n",
    "m = m+time\n",
    "\n",
    "h = (m//60)%24\n",
    "m = (m%60)\n",
    "\n",
    "print(h, m)"
   ]
  },
  {
   "cell_type": "code",
   "execution_count": 57,
   "metadata": {},
   "outputs": [
    {
     "name": "stdout",
     "output_type": "stream",
     "text": [
      "600\n"
     ]
    }
   ],
   "source": [
    "\"\"\"\n",
    "날짜: 2023/01/03\n",
    "이름: 이원정\n",
    "내용: 백준 2-7: 2480\n",
    "\"\"\"\n",
    "\n",
    "a,b,c=map(int,input().split())\n",
    "\n",
    "if a==b==c:\n",
    "    print(10000+a*1000)\n",
    "elif a==b or b==c:\n",
    "    print(1000+b*100)\n",
    "elif a==c:\n",
    "    print(1000+a*100)\n",
    "else:\n",
    "    print(max(a,b,c)*100)"
   ]
  }
 ],
 "metadata": {
  "kernelspec": {
   "display_name": "Python 3.11.1 64-bit",
   "language": "python",
   "name": "python3"
  },
  "language_info": {
   "codemirror_mode": {
    "name": "ipython",
    "version": 3
   },
   "file_extension": ".py",
   "mimetype": "text/x-python",
   "name": "python",
   "nbconvert_exporter": "python",
   "pygments_lexer": "ipython3",
   "version": "3.11.1"
  },
  "orig_nbformat": 4,
  "vscode": {
   "interpreter": {
    "hash": "aee8b7b246df8f9039afb4144a1f6fd8d2ca17a180786b69acc140d282b71a49"
   }
  }
 },
 "nbformat": 4,
 "nbformat_minor": 2
}
