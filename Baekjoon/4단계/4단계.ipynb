{
 "cells": [
  {
   "cell_type": "code",
   "execution_count": null,
   "metadata": {},
   "outputs": [],
   "source": [
    "\"\"\"\n",
    "날짜: 2023/01/03\n",
    "이름: 이원정\n",
    "내용: 백준 4-1: 10807\n",
    "\"\"\"\n",
    "n = int(input())\n",
    "nums = list(map(int, input().split()))\n",
    "v = int(input())\n",
    "\n",
    "print(nums.count(v))"
   ]
  },
  {
   "cell_type": "code",
   "execution_count": null,
   "metadata": {},
   "outputs": [],
   "source": [
    "\"\"\"\n",
    "날짜: 2023/01/03\n",
    "이름: 이원정\n",
    "내용: 백준 4-2: 10871\n",
    "\"\"\"\n",
    "N, X = map(int,input().split())\n",
    "N_list = list(map(int, input().split()))\n",
    "for i in range(N):\n",
    "    if N_list[i] < X:\n",
    "        print(N_list[i], end=\" \")"
   ]
  },
  {
   "cell_type": "code",
   "execution_count": null,
   "metadata": {},
   "outputs": [],
   "source": [
    "\"\"\"\n",
    "날짜: 2023/01/03\n",
    "이름: 이원정\n",
    "내용: 백준 4-3: 10818\n",
    "\"\"\"\n",
    "N = int(input())\n",
    "N_list = list(map(int, input().split()))\n",
    "print(min(N_list),max(N_list))"
   ]
  },
  {
   "cell_type": "code",
   "execution_count": null,
   "metadata": {},
   "outputs": [],
   "source": [
    "\"\"\"\n",
    "날짜: 2023/01/03\n",
    "이름: 이원정\n",
    "내용: 백준 4-4: 2562\n",
    "\"\"\"\n",
    "numbers = []\n",
    "for i in range(9):\n",
    "    N = int(input())\n",
    "    numbers.append(N)\n",
    "\n",
    "print(max(numbers))\n",
    "print(numbers.index(max(numbers))+1)"
   ]
  },
  {
   "cell_type": "code",
   "execution_count": null,
   "metadata": {},
   "outputs": [],
   "source": [
    "\"\"\"\n",
    "날짜: 2023/01/03\n",
    "이름: 이원정\n",
    "내용: 백준 4-5: 5597\n",
    "\"\"\"\n",
    "n = [i for i in range(1,31)]\n",
    "\n",
    "for i in range(28):\n",
    "    submit = int(input())\n",
    "    n.remove(submit)\n",
    "print(min(n))\n",
    "print(max(n))"
   ]
  },
  {
   "cell_type": "code",
   "execution_count": null,
   "metadata": {},
   "outputs": [],
   "source": [
    "\"\"\"\n",
    "날짜: 2023/01/03\n",
    "이름: 이원정\n",
    "내용: 백준 4-6: 3052\n",
    "\"\"\"\n",
    "nums = []\n",
    "for i in range(10):\n",
    "    n = int(input())\n",
    "    rest = n%42\n",
    "    nums.append(rest)\n",
    "nums = set(nums) #set함수: 중복을 제거하기 위한 필터 역할\n",
    "print(len(nums))"
   ]
  },
  {
   "cell_type": "code",
   "execution_count": null,
   "metadata": {},
   "outputs": [],
   "source": [
    "\"\"\"\n",
    "날짜: 2023/01/03\n",
    "이름: 이원정\n",
    "내용: 백준 4-7: 1546\n",
    "\"\"\"\n",
    "n = int(input())\n",
    "score_list = list(map(int, input().split()))\n",
    "M = max(score_list)\n",
    "\n",
    "after_list = []\n",
    "for score in score_list:\n",
    "    after_list.append(score/M*100)\n",
    "scoreAvg = sum(after_list)/n\n",
    "\n",
    "print(scoreAvg)"
   ]
  },
  {
   "cell_type": "code",
   "execution_count": null,
   "metadata": {},
   "outputs": [],
   "source": [
    "\"\"\"\n",
    "날짜: 2023/01/03\n",
    "이름: 이원정\n",
    "내용: 백준 4-8: 8958\n",
    "\"\"\"\n",
    "t = int(input())\n",
    "for i in range(t):\n",
    "    ox_list = list(input())\n",
    "    score = 0\n",
    "    sum = 0\n",
    "    for ox in ox_list:\n",
    "        if ox == 'O':\n",
    "            score += 1\n",
    "            sum += score \n",
    "        else:\n",
    "            score = 0\n",
    "    print(sum)"
   ]
  },
  {
   "cell_type": "code",
   "execution_count": null,
   "metadata": {},
   "outputs": [],
   "source": [
    "\"\"\"\n",
    "날짜: 2023/01/03\n",
    "이름: 이원정\n",
    "내용: 백준 4-9: 4344\n",
    "\"\"\"\n",
    "C = int(input())\n",
    "\n",
    "for i in range(C):\n",
    "    n_list = list(map(int,input().split()))\n",
    "    scoreAvg = sum(n_list[1:])/n_list[0]\n",
    "    cnt = 0\n",
    "    for score in n_list[1:]:\n",
    "        if score > scoreAvg:\n",
    "            cnt = cnt + 1\n",
    "    rate = cnt/n_list[0]*100\n",
    "    print(f'{rate:.3f}%')\n"
   ]
  }
 ],
 "metadata": {
  "kernelspec": {
   "display_name": "Python 3.11.1 64-bit",
   "language": "python",
   "name": "python3"
  },
  "language_info": {
   "codemirror_mode": {
    "name": "ipython",
    "version": 3
   },
   "file_extension": ".py",
   "mimetype": "text/x-python",
   "name": "python",
   "nbconvert_exporter": "python",
   "pygments_lexer": "ipython3",
   "version": "3.11.1"
  },
  "orig_nbformat": 4,
  "vscode": {
   "interpreter": {
    "hash": "aee8b7b246df8f9039afb4144a1f6fd8d2ca17a180786b69acc140d282b71a49"
   }
  }
 },
 "nbformat": 4,
 "nbformat_minor": 2
}
