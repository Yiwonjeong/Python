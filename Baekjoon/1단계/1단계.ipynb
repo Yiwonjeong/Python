{
 "cells": [
  {
   "cell_type": "code",
   "execution_count": null,
   "metadata": {},
   "outputs": [],
   "source": [
    "\"\"\"\n",
    "날짜: 2023/01/02\n",
    "이름: 이원정\n",
    "내용: 백준 1-1: 2557\n",
    "\"\"\"\n",
    "\n",
    "print('Hello World!')"
   ]
  },
  {
   "cell_type": "code",
   "execution_count": null,
   "metadata": {},
   "outputs": [],
   "source": [
    "\"\"\"\n",
    "날짜: 2023/01/02\n",
    "이름: 이원정\n",
    "내용: 백준 1-2: 1000\n",
    "\"\"\"\n",
    "\n",
    "a, b= map(int, input().split())\n",
    "\n",
    "print(a+b)"
   ]
  },
  {
   "cell_type": "code",
   "execution_count": null,
   "metadata": {},
   "outputs": [],
   "source": [
    "\"\"\"\n",
    "날짜: 2023/01/02\n",
    "이름: 이원정\n",
    "내용: 백준 1-3: 1001\n",
    "\"\"\"\n",
    "\n",
    "a, b= map(int, input().split())\n",
    "\n",
    "print(a-b)"
   ]
  },
  {
   "cell_type": "code",
   "execution_count": null,
   "metadata": {},
   "outputs": [],
   "source": [
    "\"\"\"\n",
    "날짜: 2023/01/02\n",
    "이름: 이원정\n",
    "내용: 백준 1-4: 10998\n",
    "\"\"\"\n",
    "\n",
    "a, b= map(int, input().split())\n",
    "\n",
    "print(a*b)"
   ]
  },
  {
   "cell_type": "code",
   "execution_count": null,
   "metadata": {},
   "outputs": [],
   "source": [
    "\"\"\"\n",
    "날짜: 2023/01/02\n",
    "이름: 이원정\n",
    "내용: 백준 1-5: 1008\n",
    "\"\"\"\n",
    "\n",
    "a, b= map(int, input().split())\n",
    "\n",
    "print(a/b)"
   ]
  },
  {
   "cell_type": "code",
   "execution_count": 3,
   "metadata": {},
   "outputs": [
    {
     "name": "stdout",
     "output_type": "stream",
     "text": [
      "10\n",
      "4\n",
      "21\n",
      "2\n",
      "1\n"
     ]
    }
   ],
   "source": [
    "\"\"\"\n",
    "날짜: 2023/01/02\n",
    "이름: 이원정\n",
    "내용: 백준 1-6: 10869\n",
    "\"\"\"\n",
    "\n",
    "a, b= map(int, input().split())\n",
    "\n",
    "print(a+b)\n",
    "print(a-b)\n",
    "print(a*b)\n",
    "print(a//b)\n",
    "print(a%b)"
   ]
  },
  {
   "cell_type": "code",
   "execution_count": 4,
   "metadata": {},
   "outputs": [
    {
     "name": "stdout",
     "output_type": "stream",
     "text": [
      "joonas??!\n"
     ]
    }
   ],
   "source": [
    "\"\"\"\n",
    "날짜: 2023/01/02\n",
    "이름: 이원정\n",
    "내용: 백준 1-7: 10926\n",
    "\"\"\"\n",
    "\n",
    "name = input()\n",
    "print(name + '??!')"
   ]
  },
  {
   "cell_type": "code",
   "execution_count": 5,
   "metadata": {},
   "outputs": [
    {
     "name": "stdout",
     "output_type": "stream",
     "text": [
      "1998\n"
     ]
    }
   ],
   "source": [
    "\"\"\"\n",
    "날짜: 2023/01/02\n",
    "이름: 이원정\n",
    "내용: 백준 1-8: 18108\n",
    "\"\"\"\n",
    "year = int(input())\n",
    "result = year - 543\n",
    "print(result)"
   ]
  },
  {
   "cell_type": "code",
   "execution_count": 8,
   "metadata": {},
   "outputs": [
    {
     "name": "stdout",
     "output_type": "stream",
     "text": [
      "-1 0 0 1 0 7\n"
     ]
    }
   ],
   "source": [
    "\"\"\"\n",
    "날짜: 2023/01/02\n",
    "이름: 이원정\n",
    "내용: 백준 1-9: 3003\n",
    "\"\"\"\n",
    "a, b, c, d, e, f = map(int, input().split())\n",
    "num1 = 1 - a \n",
    "num2 = 1 - b\n",
    "num3 = 2 - c\n",
    "num4 = 2 - d\n",
    "num5 = 2 - e\n",
    "num6 = 8 - f\n",
    "\n",
    "print(num1, num2, num3, num4, num5, num6)"
   ]
  },
  {
   "cell_type": "code",
   "execution_count": 10,
   "metadata": {},
   "outputs": [
    {
     "name": "stdout",
     "output_type": "stream",
     "text": [
      "1\n",
      "1\n",
      "0\n",
      "0\n"
     ]
    }
   ],
   "source": [
    "\"\"\"\n",
    "날짜: 2023/01/02\n",
    "이름: 이원정\n",
    "내용: 백준 1-10: 10430\n",
    "첫째 줄에 (A+B)%C, 둘째 줄에 ((A%C) + (B%C))%C, 셋째 줄에 (A×B)%C, 넷째 줄에 ((A%C) × (B%C))%C를 출력한다\n",
    "\"\"\"\n",
    "\n",
    "A, B, C = map(int, input().split())\n",
    "print((A+B)%C)\n",
    "print(((A%C) + (B%C))%C)\n",
    "print((A*B)%C)\n",
    "print(((A%C) * (B%C))%C)"
   ]
  },
  {
   "cell_type": "code",
   "execution_count": 20,
   "metadata": {},
   "outputs": [
    {
     "name": "stdout",
     "output_type": "stream",
     "text": [
      "2360\n",
      "3776\n",
      "1416\n",
      "181720\n"
     ]
    }
   ],
   "source": [
    "\"\"\"\n",
    "날짜: 2023/01/02\n",
    "이름: 이원정\n",
    "내용: 백준 1-11: 2588\n",
    "\"\"\"\n",
    "\n",
    "a = int(input())\n",
    "b = int(input())\n",
    "\n",
    "print(a * (b % 10))\n",
    "print(a * ((b // 10) % 10))\n",
    "print(a * (b//100))\n",
    "print(a*b)\n"
   ]
  },
  {
   "cell_type": "code",
   "execution_count": 23,
   "metadata": {},
   "outputs": [
    {
     "name": "stdout",
     "output_type": "stream",
     "text": [
      "\\    /\\\n",
      " )  ( ')\n",
      "(  /  )\n",
      " \\(__)|\n"
     ]
    }
   ],
   "source": [
    "\"\"\"\n",
    "날짜: 2023/01/02\n",
    "이름: 이원정\n",
    "내용: 백준 1-12: 10171\n",
    "\"\"\"\n",
    "\n",
    "print(\"\\\\    /\\\\\")\n",
    "print(\" )  ( ')\")\n",
    "print(\"(  /  )\")\n",
    "print(\" \\\\(__)|\")"
   ]
  },
  {
   "cell_type": "code",
   "execution_count": 26,
   "metadata": {},
   "outputs": [
    {
     "name": "stdout",
     "output_type": "stream",
     "text": [
      "|\\_/|\n",
      "|q p|   /}\n",
      "( 0 )\"\"\"\\\n",
      "|\"^\"`    |\n",
      "||_/=\\\\__|\n"
     ]
    }
   ],
   "source": [
    "\"\"\"\n",
    "날짜: 2023/01/02\n",
    "이름: 이원정\n",
    "내용: 백준 1-13: 10172\n",
    "\"\"\"\n",
    "\n",
    "print(\"|\\_/|\")\n",
    "print(\"|q p|   /}\")\n",
    "print('( 0 )\"\"\"\\\\')\n",
    "print('|\"^\"`    |')\n",
    "print(\"||_/=\\\\\\__|\")\n"
   ]
  },
  {
   "cell_type": "code",
   "execution_count": 27,
   "metadata": {},
   "outputs": [
    {
     "name": "stdout",
     "output_type": "stream",
     "text": [
      "         ,r'\"7\n",
      "r`-_   ,'  ,/\n",
      " \\. \". L_r'\n",
      "   `~\\/\n",
      "      |\n",
      "      |\n"
     ]
    }
   ],
   "source": [
    "\"\"\"\n",
    "날짜: 2023/01/02\n",
    "이름: 이원정\n",
    "내용: 백준 1-14: 25083\n",
    "\"\"\"\n",
    "\n",
    "print(\"         ,r'\\\"7\")\n",
    "print(\"r`-_   ,'  ,/\")\n",
    "print(\" \\\\. \\\". L_r'\")\n",
    "print(\"   `~\\\\/\")\n",
    "print(\"      |\")\n",
    "print(\"      |\")\n"
   ]
  }
 ],
 "metadata": {
  "kernelspec": {
   "display_name": "Python 3.11.1 64-bit",
   "language": "python",
   "name": "python3"
  },
  "language_info": {
   "codemirror_mode": {
    "name": "ipython",
    "version": 3
   },
   "file_extension": ".py",
   "mimetype": "text/x-python",
   "name": "python",
   "nbconvert_exporter": "python",
   "pygments_lexer": "ipython3",
   "version": "3.11.1"
  },
  "orig_nbformat": 4,
  "vscode": {
   "interpreter": {
    "hash": "aee8b7b246df8f9039afb4144a1f6fd8d2ca17a180786b69acc140d282b71a49"
   }
  }
 },
 "nbformat": 4,
 "nbformat_minor": 2
}
