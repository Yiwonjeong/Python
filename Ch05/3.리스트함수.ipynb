{
 "cells": [
  {
   "cell_type": "code",
   "execution_count": 1,
   "metadata": {},
   "outputs": [],
   "source": [
    "\"\"\"\n",
    "날짜: 2023/01/06\n",
    "이름: 이원정\n",
    "내용: 파이썬 리스트 함수 실습하기\n",
    "\"\"\"\n",
    "import math"
   ]
  },
  {
   "cell_type": "code",
   "execution_count": null,
   "metadata": {},
   "outputs": [],
   "source": [
    "# 리스트 내장함수\n",
    "dataset = [1,4,3]\n",
    "print('dataset - ', dataset)\n",
    "\n",
    "# 추가\n",
    "dataset.append(2)\n",
    "print('append - ', dataset)\n",
    "\n",
    "dataset.append(5)\n",
    "print('append - ', dataset)\n",
    "\n",
    "# 정렬\n",
    "dataset.sort()\n",
    "print('sort - ', dataset)\n",
    "\n",
    "dataset.sort(reverse=True)\n",
    "print('sortReverse - ', dataset)\n",
    "\n",
    "dataset.reverse()\n",
    "print('reverse - ', dataset)\n",
    "\n",
    "# 삽입 ([2]에 6을 삽입)\n",
    "dataset.insert(2, 6)\n",
    "print('insert - ', dataset)\n",
    "\n",
    "# 삭제 (값 삭제)\n",
    "dataset.remove(6)\n",
    "print('remove - ', dataset)\n",
    "\n",
    "# 삭제 ([index]번호 데이터 삭제)\n",
    "dataset.pop(1)\n",
    "print('pop - ', dataset)"
   ]
  },
  {
   "cell_type": "code",
   "execution_count": null,
   "metadata": {},
   "outputs": [],
   "source": [
    "# map 함수: 리스트의 원소를 지정된 함수로 일괄 처리해 주는 함수 \n",
    "def plus(n):\n",
    "    return n+10\n",
    "\n",
    "list1 = [1, 2, 3, 4, 5]\n",
    "\n",
    "r1 = map(plus, list1) #plus(함수)를 list1의 모든 요소에 적용\n",
    "print('r1: ', list(r1))\n",
    "\n",
    "\n",
    "list2 = [0.1, 1.2, 2.6, 3.4, 4.9]\n",
    "\n",
    "r2 = map(math.ceil, list2)\n",
    "print('r2: ', list(r2))\n",
    "\n",
    "\n",
    "list3 = ['1','2','3','4','5'] #문자열\n",
    "\n",
    "r3 = list(map(int, list3)) #list3 문자열을 int로 변환\n",
    "print('r3: ', list(r3))"
   ]
  }
 ],
 "metadata": {
  "kernelspec": {
   "display_name": "Python 3.11.1 64-bit",
   "language": "python",
   "name": "python3"
  },
  "language_info": {
   "codemirror_mode": {
    "name": "ipython",
    "version": 3
   },
   "file_extension": ".py",
   "mimetype": "text/x-python",
   "name": "python",
   "nbconvert_exporter": "python",
   "pygments_lexer": "ipython3",
   "version": "3.11.1"
  },
  "orig_nbformat": 4,
  "vscode": {
   "interpreter": {
    "hash": "aee8b7b246df8f9039afb4144a1f6fd8d2ca17a180786b69acc140d282b71a49"
   }
  }
 },
 "nbformat": 4,
 "nbformat_minor": 2
}
